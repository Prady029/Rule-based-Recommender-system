{
 "cells": [
  {
   "cell_type": "markdown",
   "metadata": {},
   "source": [
    "# Genre-based random recommendations"
   ]
  },
  {
   "cell_type": "code",
   "execution_count": 2,
   "metadata": {},
   "outputs": [],
   "source": [
    "def genre_reqd(data_path):\n",
    "    \n",
    "    import pandas as pd\n",
    "    def preprocessing(data_path):\n",
    "        \n",
    "        data =pd.read_csv(data_path)\n",
    "        data = data.drop(['tags','description'],axis=1)\n",
    "        data.fillna(data.mode().iloc[0], inplace=True)\n",
    "        gen = [i for i in list(data['genre'].str.lower().replace('#|/|.\\\\','').str.get_dummies(sep=',').\n",
    "                               rename(lambda x: '' + x, axis='columns')) if len(i) > 3 and len(i) < 30 ]\n",
    "        gens = data['genre'].str.lower().replace('#|/|.\\\\',''\n",
    "                                                ).str.get_dummies(sep=',').rename(lambda x: '' + x,\n",
    "                                                                                  axis='columns')[gen]\n",
    "        return  pd.concat([data.drop(['genre'],axis=1),gens],axis=1),gen\n",
    "    \n",
    "    genres_data,_ = preprocessing(data_path)\n",
    "    genres_reqs = [i.strip(\"'\") for i in input('enter your gens').split(',')]\n",
    "    recommend = pd.DataFrame()\n",
    "    for gen in genres_reqs:\n",
    "        assert (gen in genres_data.columns),'Invalid gens provided : {}'.format(gen)\n",
    "        recommend = recommend.append(genres_data[genres_data[gen] == 1])\n",
    "    return recommend.sample(10).video_name.values #Any 10 random recommendations"
   ]
  },
  {
   "cell_type": "code",
   "execution_count": 3,
   "metadata": {},
   "outputs": [],
   "source": [
    "data_path = 'Tnatan.csv'"
   ]
  },
  {
   "cell_type": "code",
   "execution_count": null,
   "metadata": {},
   "outputs": [],
   "source": [
    "genre_reqd(data_path)"
   ]
  },
  {
   "cell_type": "code",
   "execution_count": null,
   "metadata": {},
   "outputs": [],
   "source": []
  }
 ],
 "metadata": {
  "kernelspec": {
   "display_name": "Python 3",
   "language": "python",
   "name": "python3"
  },
  "language_info": {
   "codemirror_mode": {
    "name": "ipython",
    "version": 3
   },
   "file_extension": ".py",
   "mimetype": "text/x-python",
   "name": "python",
   "nbconvert_exporter": "python",
   "pygments_lexer": "ipython3",
   "version": "3.8.6"
  }
 },
 "nbformat": 4,
 "nbformat_minor": 4
}
