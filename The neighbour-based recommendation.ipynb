{
 "cells": [
  {
   "cell_type": "markdown",
   "metadata": {},
   "source": [
    "# **The neighbour-based recommendation for XXXXXXX**\n",
    "---\n",
    "\n",
    "Various approaches(defers by algorithms) are to be tested and based on the time-lag, one will be finalised.\n",
    "- The main objective is to increase the user engagement from current average usage of **6 minutes**.\n",
    "- As each video is of almost 15 secs, then we have to take care of first 24 videos.\n",
    "- The user will be asked to give genre preference and upon these, recommendations shall occur.\n",
    "- The first k videos will be clubbed using rules\n",
    "     - most recent\n",
    "     - most viewed\n",
    "     - most liked\n",
    "     - most commented\n",
    "- For remaining **(24-k)** videos, the following algorithm are applied\n",
    "    - k-Nearest Neighbour"
   ]
  },
  {
   "cell_type": "code",
   "execution_count": 85,
   "metadata": {},
   "outputs": [],
   "source": [
    "class nearest_neighbour_recommender():\n",
    "    \n",
    "    #!pip install sklearn,pandas\n",
    "    #in case you do not have the dependecies, uncomment above line and run.\n",
    "    \n",
    "    \"\"\"\n",
    "    ---------------------------------\n",
    "    \n",
    "    This class will create an object of recommendation algorithm.\n",
    "    This object will be fitted to the data provided and then,\n",
    "    the required recommendations will be provided as per the query by\n",
    "    the object.\n",
    "    \n",
    "    Parameters\n",
    "    ==================================================================\n",
    "    \n",
    "    data = The data on which recommendation algorithm will be trained.\n",
    "    recs = Total recommendations required\n",
    "    n_jobs = -1 (This is the total processors that can be used for training.)\n",
    "    \n",
    "    Procedure\n",
    "    =================================================================\n",
    "    \n",
    "    1. call preprocessing function and pass the data path.\n",
    "    2. fit function will train the algorithm on data\n",
    "    3. For recommendations, call recommend and pass the data for which \n",
    "    recommendation is in need \"\"\"        \n",
    "        \n",
    "    def __init__(self, recs_reqd = 10,n_jobs =-1):\n",
    "        self.recs_reqd = 10\n",
    "        self.n_jobs    = -1\n",
    "    \n",
    "    \n",
    "    def preprocessing(self,data_path):\n",
    "        \n",
    "        \"\"\"\n",
    "        Parameters\n",
    "        ===============================================================\n",
    "        data_path = path of the data stored in csv format.\n",
    "        \n",
    "        Functions\n",
    "        ===============================================================\n",
    "        1.This function will read the data in .CSV format\n",
    "        2.It will store the video_names from which recommendation\n",
    "        will be offered.\n",
    "        3.It will drop the tags,description and video_name \n",
    "        columns so that the remaining data is in numeric form\n",
    "        for feeding the algorithm.\n",
    "        4. The missing values are filled with MODE of the relevant columns.\n",
    "        5. Genres are filtered and the most relevant ones are then one-hot encoded\n",
    "        6. The original genre column will be dropped to maintain non-redundancy.\n",
    "        \n",
    "        \"\"\"\n",
    "        \n",
    "        import pandas as pd\n",
    "        data = pd.read_csv(data_path)\n",
    "        self.video_names = data.video_name\n",
    "        data = data.drop(['tags','description','video_name'],axis=1)\n",
    "        data.fillna(data.mode().iloc[0], inplace=True)\n",
    "        gen = [i for i in list(data['genre'].str.lower().replace('#|/|.\\\\','').str.get_dummies(sep=',').\n",
    "                       rename(lambda x: '' + x, axis='columns')) if len(i) > 3 and len(i) < 30 ]\n",
    "        gens = data['genre'].str.lower().replace('#|/|.\\\\','').str.get_dummies(sep=',').rename(lambda x: '' + x, axis='columns')[gen]\n",
    "        self.data = pd.concat([data.drop(['genre'],axis=1),gens],axis=1)\n",
    "        \n",
    "    \n",
    "    def fit(self):\n",
    "        from sklearn.neighbors import NearestNeighbors\n",
    "        #import pandas as pd\n",
    "        recommendations_object = NearestNeighbors(n_neighbors=self.recs_reqd,n_jobs=self.n_jobs)\n",
    "        recommendations_object.fit(self.data)\n",
    "        self.rec_sys = recommendations_object\n",
    "        print('training is over. Call recommend function for getting recommendations.')\n",
    "    \n",
    "    def recommend(self,data_for_recommend_path):\n",
    "        \"\"\"\n",
    "        Parameters:\n",
    "        =========================================================================\n",
    "        data_for_recommend_path = data in .CSV for which recommendation is seeked\n",
    "        \n",
    "        Function:\n",
    "        =========================================================================\n",
    "        returns the indeices of videos in database recommendations\n",
    "        \"\"\"\n",
    "        recommendations = self.rec_sys.kneighbors(self.preprocessing(data_for_recommend_path),return_distance=False)\n",
    "        #the below returns the indices of recommended videos.\n",
    "        return recommendations"
   ]
  },
  {
   "cell_type": "code",
   "execution_count": 71,
   "metadata": {},
   "outputs": [],
   "source": [
    "data_path = 'data.csv'"
   ]
  },
  {
   "cell_type": "code",
   "execution_count": 72,
   "metadata": {},
   "outputs": [],
   "source": [
    "recommender = nearest_neighbour_recommender()"
   ]
  },
  {
   "cell_type": "code",
   "execution_count": 73,
   "metadata": {},
   "outputs": [],
   "source": [
    "recommender.preprocessing(data_path)"
   ]
  },
  {
   "cell_type": "code",
   "execution_count": 74,
   "metadata": {},
   "outputs": [
    {
     "name": "stdout",
     "output_type": "stream",
     "text": [
      "training is over. Call recommend function for getting recommendations.\n"
     ]
    }
   ],
   "source": [
    "recommender.fit()"
   ]
  },
  {
   "cell_type": "code",
   "execution_count": 86,
   "metadata": {},
   "outputs": [],
   "source": [
    "recs=recommender.recommend('Tnatan.csv')\n",
    "#passed the same file for testing."
   ]
  },
  {
   "cell_type": "code",
   "execution_count": 87,
   "metadata": {},
   "outputs": [
    {
     "data": {
      "text/plain": [
       "array([[2082,  132,  117, ...,   34,   96,  258],\n",
       "       [ 103,  348,  113, ...,  192,  515,    8],\n",
       "       [ 266,  165,   26, ...,  170,  365,  160],\n",
       "       ...,\n",
       "       [3741, 3799, 3785, ..., 3688, 3733, 3855],\n",
       "       [3779, 3808, 3790, ..., 3689, 3783, 3664],\n",
       "       [3806, 3676, 3666, ..., 3674, 3665, 3663]])"
      ]
     },
     "execution_count": 87,
     "metadata": {},
     "output_type": "execute_result"
    }
   ],
   "source": [
    "recs"
   ]
  },
  {
   "cell_type": "code",
   "execution_count": 89,
   "metadata": {},
   "outputs": [
    {
     "data": {
      "text/plain": [
       "array([2082,  132,  117,  355,  323, 2116,  180,   34,   96,  258])"
      ]
     },
     "execution_count": 89,
     "metadata": {},
     "output_type": "execute_result"
    }
   ],
   "source": [
    "recs[0]\n",
    "#recommendations for first video in the test file"
   ]
  }
 ],
 "metadata": {
  "kernelspec": {
   "display_name": "Python 3",
   "language": "python",
   "name": "python3"
  },
  "language_info": {
   "codemirror_mode": {
    "name": "ipython",
    "version": 3
   },
   "file_extension": ".py",
   "mimetype": "text/x-python",
   "name": "python",
   "nbconvert_exporter": "python",
   "pygments_lexer": "ipython3",
   "version": "3.8.6"
  }
 },
 "nbformat": 4,
 "nbformat_minor": 4
}
