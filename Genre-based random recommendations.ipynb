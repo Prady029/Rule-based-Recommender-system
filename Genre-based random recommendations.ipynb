{
 "cells": [
  {
   "cell_type": "markdown",
   "metadata": {},
   "source": [
    "# Genre-based random recommendations"
   ]
  },
  {
   "cell_type": "code",
   "execution_count": 1,
   "metadata": {},
   "outputs": [],
   "source": [
    "def genre_reqd(data_path):\n",
    "    \n",
    "    import pandas as pd\n",
    "    def preprocessing(data_path):\n",
    "        \n",
    "        data =pd.read_csv(data_path)\n",
    "        data = data.drop(['tags','description'],axis=1)\n",
    "        data.fillna(data.mode().iloc[0], inplace=True)\n",
    "        gen = [i for i in list(data['genre'].str.lower().replace('#|/|.\\\\','').str.get_dummies(sep=',').\n",
    "                               rename(lambda x: '' + x, axis='columns')) if len(i) > 3 and len(i) < 30 ]\n",
    "        gens = data['genre'].str.lower().replace('#|/|.\\\\',''\n",
    "                                                ).str.get_dummies(sep=',').rename(lambda x: '' + x,\n",
    "                                                                                  axis='columns')[gen]\n",
    "        return  pd.concat([data.drop(['genre'],axis=1),gens],axis=1),gen\n",
    "    \n",
    "    genres_data,_ = preprocessing(data_path)\n",
    "    genres_reqs = [i.strip(\"'\") for i in input('enter your gens').split(',')]\n",
    "    recommend = pd.DataFrame()\n",
    "    for gen in genres_reqs:\n",
    "        assert (gen in genres_data.columns),'Invalid gens provided : {}'.format(gen)\n",
    "        recommend = recommend.append(genres_data[genres_data[gen] == 1])\n",
    "    return recommend.sample(10).video_name.values #Any 10 random recommendations"
   ]
  },
  {
   "cell_type": "code",
   "execution_count": 2,
   "metadata": {},
   "outputs": [],
   "source": [
    "data_path = 'data.csv'"
   ]
  },
  {
   "cell_type": "code",
   "execution_count": 3,
   "metadata": {},
   "outputs": [
    {
     "name": "stdin",
     "output_type": "stream",
     "text": [
      "enter your gens dance,acting\n"
     ]
    },
    {
     "data": {
      "text/plain": [
       "array(['video_105399924424077571746_1604662145968.mp4',\n",
       "       'video_117622275138513599283_1604642582722.mp4',\n",
       "       'video_394662145040955_1604517340140.mp4',\n",
       "       'video_101935343074225474085_1604478164444.mp4',\n",
       "       'video_108002001385118168619_1604551649943.mp4',\n",
       "       'video_223217909203591_1604574229161.mp4',\n",
       "       'video_224509409276013_1604574749233.mp4',\n",
       "       'video_108574687079268035128_1604649338650.mp4',\n",
       "       'video_105501667060082572236_1604651721178.mp4',\n",
       "       'video_113876957497181739954_1604643722293.mp4'], dtype=object)"
      ]
     },
     "execution_count": 3,
     "metadata": {},
     "output_type": "execute_result"
    }
   ],
   "source": [
    "genre_reqd(data_path)"
   ]
  },
  {
   "cell_type": "code",
   "execution_count": null,
   "metadata": {},
   "outputs": [],
   "source": []
  }
 ],
 "metadata": {
  "kernelspec": {
   "display_name": "Python 3",
   "language": "python",
   "name": "python3"
  },
  "language_info": {
   "codemirror_mode": {
    "name": "ipython",
    "version": 3
   },
   "file_extension": ".py",
   "mimetype": "text/x-python",
   "name": "python",
   "nbconvert_exporter": "python",
   "pygments_lexer": "ipython3",
   "version": "3.8.6"
  }
 },
 "nbformat": 4,
 "nbformat_minor": 4
}
